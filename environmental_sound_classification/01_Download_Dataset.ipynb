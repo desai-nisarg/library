{
 "cells": [
  {
   "cell_type": "markdown",
   "metadata": {},
   "source": [
    "## Download Dataset"
   ]
  },
  {
   "cell_type": "markdown",
   "metadata": {},
   "source": [
    "This dataset is made publicly available on [archive.org](https://archive.org/details/anno_20210524).\n",
    "\n",
    "Let's download the data and extract it."
   ]
  },
  {
   "cell_type": "code",
   "execution_count": 1,
   "metadata": {},
   "outputs": [],
   "source": [
    "mkdir data"
   ]
  },
  {
   "cell_type": "code",
   "execution_count": 2,
   "metadata": {},
   "outputs": [
    {
     "name": "stdout",
     "output_type": "stream",
     "text": [
      "--2021-05-24 22:34:29--  https://archive.org/download/anno_20210524/anno.zip\n",
      "Resolving archive.org (archive.org)... 207.241.224.2\n",
      "Connecting to archive.org (archive.org)|207.241.224.2|:443... connected.\n",
      "HTTP request sent, awaiting response... 302 Found\n",
      "Location: https://ia801509.us.archive.org/13/items/anno_20210524/anno.zip [following]\n",
      "--2021-05-24 22:34:29--  https://ia801509.us.archive.org/13/items/anno_20210524/anno.zip\n",
      "Resolving ia801509.us.archive.org (ia801509.us.archive.org)... 207.241.228.159\n",
      "Connecting to ia801509.us.archive.org (ia801509.us.archive.org)|207.241.228.159|:443... connected.\n",
      "HTTP request sent, awaiting response... 200 OK\n",
      "Length: 822520810 (784M) [application/zip]\n",
      "Saving to: ‘anno.zip’\n",
      "\n",
      "anno.zip            100%[===================>] 784.42M  3.21MB/s    in 5m 0s   \n",
      "\n",
      "2021-05-24 22:39:29 (2.62 MB/s) - ‘anno.zip’ saved [822520810/822520810]\n",
      "\n"
     ]
    }
   ],
   "source": [
    "!cd data && wget https://archive.org/download/anno_20210524/anno.zip"
   ]
  },
  {
   "cell_type": "markdown",
   "metadata": {},
   "source": [
    "We now have downloaded the data. Let's extract it!"
   ]
  },
  {
   "cell_type": "code",
   "execution_count": 4,
   "metadata": {},
   "outputs": [],
   "source": [
    "!cd data && unzip -q anno.zip"
   ]
  },
  {
   "cell_type": "code",
   "execution_count": 5,
   "metadata": {},
   "outputs": [
    {
     "name": "stdout",
     "output_type": "stream",
     "text": [
      "anno.pkl  \u001b[0m\u001b[01;31manno.zip\u001b[0m\r\n"
     ]
    }
   ],
   "source": [
    "ls data"
   ]
  },
  {
   "cell_type": "code",
   "execution_count": 8,
   "metadata": {},
   "outputs": [
    {
     "data": {
      "text/html": [
       "<div>\n",
       "<style scoped>\n",
       "    .dataframe tbody tr th:only-of-type {\n",
       "        vertical-align: middle;\n",
       "    }\n",
       "\n",
       "    .dataframe tbody tr th {\n",
       "        vertical-align: top;\n",
       "    }\n",
       "\n",
       "    .dataframe thead th {\n",
       "        text-align: right;\n",
       "    }\n",
       "</style>\n",
       "<table border=\"1\" class=\"dataframe\">\n",
       "  <thead>\n",
       "    <tr style=\"text-align: right;\">\n",
       "      <th></th>\n",
       "      <th>fold</th>\n",
       "      <th>category</th>\n",
       "      <th>esc10</th>\n",
       "      <th>audio</th>\n",
       "    </tr>\n",
       "  </thead>\n",
       "  <tbody>\n",
       "    <tr>\n",
       "      <th>0</th>\n",
       "      <td>1</td>\n",
       "      <td>dog</td>\n",
       "      <td>True</td>\n",
       "      <td>[0.0, 0.0, 0.0, 0.0, 0.0, 0.0, 0.0, 0.0, 0.0, ...</td>\n",
       "    </tr>\n",
       "    <tr>\n",
       "      <th>1</th>\n",
       "      <td>1</td>\n",
       "      <td>chirping_birds</td>\n",
       "      <td>False</td>\n",
       "      <td>[-0.01184082, -0.10336304, -0.14141846, -0.120...</td>\n",
       "    </tr>\n",
       "    <tr>\n",
       "      <th>2</th>\n",
       "      <td>1</td>\n",
       "      <td>vacuum_cleaner</td>\n",
       "      <td>False</td>\n",
       "      <td>[-0.006958008, -0.012512207, -0.011260986, -0....</td>\n",
       "    </tr>\n",
       "    <tr>\n",
       "      <th>3</th>\n",
       "      <td>1</td>\n",
       "      <td>vacuum_cleaner</td>\n",
       "      <td>False</td>\n",
       "      <td>[0.53897095, 0.39627075, 0.26739502, 0.1376648...</td>\n",
       "    </tr>\n",
       "    <tr>\n",
       "      <th>4</th>\n",
       "      <td>1</td>\n",
       "      <td>thunderstorm</td>\n",
       "      <td>False</td>\n",
       "      <td>[-0.00036621094, -0.0007019043, -0.00079345703...</td>\n",
       "    </tr>\n",
       "  </tbody>\n",
       "</table>\n",
       "</div>"
      ],
      "text/plain": [
       "   fold        category  esc10  \\\n",
       "0     1             dog   True   \n",
       "1     1  chirping_birds  False   \n",
       "2     1  vacuum_cleaner  False   \n",
       "3     1  vacuum_cleaner  False   \n",
       "4     1    thunderstorm  False   \n",
       "\n",
       "                                               audio  \n",
       "0  [0.0, 0.0, 0.0, 0.0, 0.0, 0.0, 0.0, 0.0, 0.0, ...  \n",
       "1  [-0.01184082, -0.10336304, -0.14141846, -0.120...  \n",
       "2  [-0.006958008, -0.012512207, -0.011260986, -0....  \n",
       "3  [0.53897095, 0.39627075, 0.26739502, 0.1376648...  \n",
       "4  [-0.00036621094, -0.0007019043, -0.00079345703...  "
      ]
     },
     "execution_count": 8,
     "metadata": {},
     "output_type": "execute_result"
    }
   ],
   "source": [
    "import pandas as pd\n",
    "\n",
    "anno = pd.read_pickle('data/anno.pkl')\n",
    "anno.head()"
   ]
  },
  {
   "cell_type": "markdown",
   "metadata": {},
   "source": [
    "The calls are included in the dataframe as numpy arrays and are stored in the `audio` column."
   ]
  }
 ],
 "metadata": {
  "kernelspec": {
   "display_name": "Python 3",
   "language": "python",
   "name": "python3"
  },
  "language_info": {
   "codemirror_mode": {
    "name": "ipython",
    "version": 3
   },
   "file_extension": ".py",
   "mimetype": "text/x-python",
   "name": "python",
   "nbconvert_exporter": "python",
   "pygments_lexer": "ipython3",
   "version": "3.7.6"
  }
 },
 "nbformat": 4,
 "nbformat_minor": 4
}
