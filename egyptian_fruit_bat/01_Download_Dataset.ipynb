{
 "cells": [
  {
   "cell_type": "markdown",
   "metadata": {},
   "source": [
    "# Download Dataset"
   ]
  },
  {
   "cell_type": "markdown",
   "metadata": {},
   "source": [
    "Let's begin by downloading and extrcting the dataset."
   ]
  },
  {
   "cell_type": "code",
   "execution_count": 1,
   "metadata": {},
   "outputs": [
    {
     "name": "stdout",
     "output_type": "stream",
     "text": [
      "--2021-01-26 11:29:23--  https://archive.org/download/egyptian_fruit_bats/egyptian_fruit_bats.zip\n",
      "Resolving archive.org (archive.org)... 207.241.224.2\n",
      "Connecting to archive.org (archive.org)|207.241.224.2|:443... connected.\n",
      "HTTP request sent, awaiting response... 302 Found\n",
      "Location: https://ia601500.us.archive.org/0/items/egyptian_fruit_bats/egyptian_fruit_bats.zip [following]\n",
      "--2021-01-26 11:29:27--  https://ia601500.us.archive.org/0/items/egyptian_fruit_bats/egyptian_fruit_bats.zip\n",
      "Resolving ia601500.us.archive.org (ia601500.us.archive.org)... 207.241.227.110\n",
      "Connecting to ia601500.us.archive.org (ia601500.us.archive.org)|207.241.227.110|:443... connected.\n",
      "HTTP request sent, awaiting response... 200 OK\n",
      "Length: 59031044836 (55G) [application/zip]\n",
      "Saving to: ‘egyptian_fruit_bats.zip’\n",
      "\n",
      "egyptian_fruit_bats 100%[===================>]  54.98G  4.20MB/s    in 4h 28m  \n",
      "\n",
      "2021-01-26 15:57:34 (3.50 MB/s) - ‘egyptian_fruit_bats.zip’ saved [59031044836/59031044836]\n",
      "\n"
     ]
    }
   ],
   "source": [
    "!mkdir data\n",
    "!cd data && wget https://archive.org/download/egyptian_fruit_bats/egyptian_fruit_bats.zip\n",
    "!cd data && unzip -q egyptian_fruit_bats.zip"
   ]
  },
  {
   "cell_type": "code",
   "execution_count": null,
   "metadata": {},
   "outputs": [],
   "source": []
  }
 ],
 "metadata": {
  "kernelspec": {
   "display_name": "Python 3",
   "language": "python",
   "name": "python3"
  },
  "language_info": {
   "codemirror_mode": {
    "name": "ipython",
    "version": 3
   },
   "file_extension": ".py",
   "mimetype": "text/x-python",
   "name": "python",
   "nbconvert_exporter": "python",
   "pygments_lexer": "ipython3",
   "version": "3.7.6"
  }
 },
 "nbformat": 4,
 "nbformat_minor": 4
}
