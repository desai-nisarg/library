{
 "cells": [
  {
   "cell_type": "markdown",
   "metadata": {},
   "source": [
    "# Data Preprocessing\n",
    "\n",
    "The original data can be found on [figshare](https://figshare.com/collections/An_annotated_dataset_of_Egyptian_fruit_bat_vocalizations_across_varying_contexts_and_during_vocal_ontogeny/3666502).\n",
    "\n",
    "It is not provided as a single archive, but rather as a collection of links to 65 webpages from which each piece of the data can be downloaded.\n",
    "\n",
    "Let us download the audio files along with the provided annotations."
   ]
  },
  {
   "cell_type": "code",
   "execution_count": 18,
   "metadata": {},
   "outputs": [],
   "source": [
    "mkdir data"
   ]
  },
  {
   "cell_type": "code",
   "execution_count": 19,
   "metadata": {},
   "outputs": [],
   "source": [
    "download_urls = [\n",
    "    'https://ndownloader.figshare.com/files/8879599',\n",
    "    'https://ndownloader.figshare.com/files/8879602',\n",
    "    'https://ndownloader.figshare.com/files/8879608',\n",
    "    'https://ndownloader.figshare.com/files/8879611',\n",
    "    'https://ndownloader.figshare.com/files/8879617',\n",
    "    'https://ndownloader.figshare.com/files/8879623',\n",
    "    'https://ndownloader.figshare.com/files/8879632',\n",
    "    'https://ndownloader.figshare.com/files/8879641',\n",
    "    'https://ndownloader.figshare.com/files/8879653',\n",
    "    'https://ndownloader.figshare.com/files/8879659',\n",
    "    'https://ndownloader.figshare.com/files/8879662',\n",
    "    'https://ndownloader.figshare.com/files/8879674',\n",
    "    'https://ndownloader.figshare.com/files/8879683',\n",
    "    'https://ndownloader.figshare.com/files/8879179',\n",
    "    'https://ndownloader.figshare.com/files/8879287',\n",
    "    'https://ndownloader.figshare.com/files/8879338',\n",
    "    'https://ndownloader.figshare.com/files/8879392',\n",
    "    'https://ndownloader.figshare.com/files/8879404',\n",
    "    'https://ndownloader.figshare.com/files/8879425',\n",
    "    'https://ndownloader.figshare.com/files/8879428',\n",
    "    'https://ndownloader.figshare.com/files/8879431',\n",
    "    'https://ndownloader.figshare.com/files/8879521',\n",
    "    'https://ndownloader.figshare.com/files/8879533',\n",
    "    'https://ndownloader.figshare.com/files/8879536',\n",
    "    'https://ndownloader.figshare.com/files/8879545',\n",
    "    'https://ndownloader.figshare.com/files/8879548',\n",
    "    'https://ndownloader.figshare.com/files/8879554',\n",
    "    'https://ndownloader.figshare.com/files/8879572',\n",
    "    'https://ndownloader.figshare.com/files/8879578',\n",
    "    'https://ndownloader.figshare.com/files/8879596',\n",
    "    'https://ndownloader.figshare.com/files/7379008'\n",
    "]"
   ]
  },
  {
   "cell_type": "code",
   "execution_count": null,
   "metadata": {},
   "outputs": [
    {
     "name": "stdout",
     "output_type": "stream",
     "text": [
      "  % Total    % Received % Xferd  Average Speed   Time    Time     Time  Current\n",
      "                                 Dload  Upload   Total   Spent    Left  Speed\n",
      "  0     0    0     0    0     0      0      0 --:--:-- --:--:-- --:--:--     0\n",
      " 24 2897M   24  724M    0     0  17.9M      0  0:02:41  0:00:40  0:02:01 8694k"
     ]
    }
   ],
   "source": [
    "for url in download_urls:\n",
    "    !cd data && curl -O -J -L {url}"
   ]
  },
  {
   "cell_type": "code",
   "execution_count": 11,
   "metadata": {},
   "outputs": [],
   "source": [
    "import pandas as pd"
   ]
  },
  {
   "cell_type": "code",
   "execution_count": null,
   "metadata": {},
   "outputs": [],
   "source": [
    "pd.read_csv('data/Annotations.csv')"
   ]
  }
 ],
 "metadata": {
  "kernelspec": {
   "display_name": "Python 3",
   "language": "python",
   "name": "python3"
  },
  "language_info": {
   "codemirror_mode": {
    "name": "ipython",
    "version": 3
   },
   "file_extension": ".py",
   "mimetype": "text/x-python",
   "name": "python",
   "nbconvert_exporter": "python",
   "pygments_lexer": "ipython3",
   "version": "3.7.6"
  }
 },
 "nbformat": 4,
 "nbformat_minor": 4
}
