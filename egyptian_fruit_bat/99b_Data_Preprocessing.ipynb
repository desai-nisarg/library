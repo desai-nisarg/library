{
 "cells": [
  {
   "cell_type": "markdown",
   "metadata": {},
   "source": [
    "# Data Preprocessing - The Egyptian Fruit Bat Dataset (mini)"
   ]
  },
  {
   "cell_type": "markdown",
   "metadata": {},
   "source": [
    "We continue where we left off in 99a_Data_Preprocessing.ipynb."
   ]
  },
  {
   "cell_type": "code",
   "execution_count": 86,
   "metadata": {},
   "outputs": [],
   "source": [
    "import pandas as pd\n",
    "\n",
    "anno = pd.read_csv('data/annotations.csv')"
   ]
  },
  {
   "cell_type": "markdown",
   "metadata": {},
   "source": [
    "We will take the 20 most commonly appearing individuals and take 1000 recordings from each at random."
   ]
  },
  {
   "cell_type": "code",
   "execution_count": 87,
   "metadata": {},
   "outputs": [
    {
     "data": {
      "text/plain": [
       " 0      7858\n",
       "-215    6351\n",
       " 215    6150\n",
       "-231    4303\n",
       "-211    3943\n",
       "-216    3636\n",
       " 230    3269\n",
       " 231    3051\n",
       "-220    2581\n",
       " 216    2524\n",
       "-230    2466\n",
       "-221    2384\n",
       "-210    2334\n",
       " 226    2310\n",
       " 211    2225\n",
       "-207    1735\n",
       "-208    1680\n",
       " 228    1653\n",
       " 210    1493\n",
       " 220    1426\n",
       "Name: Emitter, dtype: int64"
      ]
     },
     "execution_count": 87,
     "metadata": {},
     "output_type": "execute_result"
    }
   ],
   "source": [
    "anno.Emitter.value_counts()[:20]"
   ]
  },
  {
   "cell_type": "code",
   "execution_count": 88,
   "metadata": {},
   "outputs": [],
   "source": [
    "anno = anno[anno.Emitter.isin(anno.Emitter.value_counts()[:20].index)]\n",
    "anno = anno.sample(frac=1).groupby('Emitter').head(1000)"
   ]
  },
  {
   "cell_type": "code",
   "execution_count": 89,
   "metadata": {},
   "outputs": [
    {
     "data": {
      "text/plain": [
       "-210    1000\n",
       "-211    1000\n",
       "-208    1000\n",
       "-207    1000\n",
       " 210    1000\n",
       " 226    1000\n",
       " 211    1000\n",
       "-221    1000\n",
       "-220    1000\n",
       " 228    1000\n",
       " 230    1000\n",
       " 215    1000\n",
       " 231    1000\n",
       "-216    1000\n",
       " 216    1000\n",
       "-215    1000\n",
       "-231    1000\n",
       "-230    1000\n",
       " 220    1000\n",
       " 0      1000\n",
       "Name: Emitter, dtype: int64"
      ]
     },
     "execution_count": 89,
     "metadata": {},
     "output_type": "execute_result"
    }
   ],
   "source": [
    "anno.Emitter.value_counts()[:20]"
   ]
  },
  {
   "cell_type": "markdown",
   "metadata": {},
   "source": [
    "The only label that we will carry over is the `Emitter` (and `File Name`)."
   ]
  },
  {
   "cell_type": "code",
   "execution_count": 90,
   "metadata": {},
   "outputs": [],
   "source": [
    "anno = anno[['Emitter', 'File Name']].reset_index()"
   ]
  },
  {
   "cell_type": "code",
   "execution_count": 92,
   "metadata": {},
   "outputs": [
    {
     "data": {
      "text/html": [
       "<div>\n",
       "<style scoped>\n",
       "    .dataframe tbody tr th:only-of-type {\n",
       "        vertical-align: middle;\n",
       "    }\n",
       "\n",
       "    .dataframe tbody tr th {\n",
       "        vertical-align: top;\n",
       "    }\n",
       "\n",
       "    .dataframe thead th {\n",
       "        text-align: right;\n",
       "    }\n",
       "</style>\n",
       "<table border=\"1\" class=\"dataframe\">\n",
       "  <thead>\n",
       "    <tr style=\"text-align: right;\">\n",
       "      <th></th>\n",
       "      <th>index</th>\n",
       "      <th>Emitter</th>\n",
       "      <th>File Name</th>\n",
       "    </tr>\n",
       "  </thead>\n",
       "  <tbody>\n",
       "    <tr>\n",
       "      <th>0</th>\n",
       "      <td>75861</td>\n",
       "      <td>211</td>\n",
       "      <td>75861.wav</td>\n",
       "    </tr>\n",
       "    <tr>\n",
       "      <th>1</th>\n",
       "      <td>86602</td>\n",
       "      <td>215</td>\n",
       "      <td>86602.wav</td>\n",
       "    </tr>\n",
       "    <tr>\n",
       "      <th>2</th>\n",
       "      <td>65186</td>\n",
       "      <td>-210</td>\n",
       "      <td>65186.wav</td>\n",
       "    </tr>\n",
       "    <tr>\n",
       "      <th>3</th>\n",
       "      <td>69616</td>\n",
       "      <td>211</td>\n",
       "      <td>69616.wav</td>\n",
       "    </tr>\n",
       "    <tr>\n",
       "      <th>4</th>\n",
       "      <td>31959</td>\n",
       "      <td>-231</td>\n",
       "      <td>31959.wav</td>\n",
       "    </tr>\n",
       "  </tbody>\n",
       "</table>\n",
       "</div>"
      ],
      "text/plain": [
       "   index  Emitter  File Name\n",
       "0  75861      211  75861.wav\n",
       "1  86602      215  86602.wav\n",
       "2  65186     -210  65186.wav\n",
       "3  69616      211  69616.wav\n",
       "4  31959     -231  31959.wav"
      ]
     },
     "execution_count": 92,
     "metadata": {},
     "output_type": "execute_result"
    }
   ],
   "source": [
    "anno.head()"
   ]
  },
  {
   "cell_type": "code",
   "execution_count": 95,
   "metadata": {},
   "outputs": [],
   "source": [
    "mkdir data/audio_mini"
   ]
  },
  {
   "cell_type": "markdown",
   "metadata": {},
   "source": [
    "And we just copy the files that got picked."
   ]
  },
  {
   "cell_type": "code",
   "execution_count": 102,
   "metadata": {},
   "outputs": [
    {
     "name": "stdout",
     "output_type": "stream",
     "text": [
      "CPU times: user 50.8 s, sys: 1min 34s, total: 2min 25s\n",
      "Wall time: 41min 53s\n"
     ]
    }
   ],
   "source": [
    "%%time\n",
    "\n",
    "for idx, row in anno.iterrows():\n",
    "    !cp data/audio/{row['File Name']} data/audio_mini/{row['File Name']}"
   ]
  },
  {
   "cell_type": "code",
   "execution_count": 107,
   "metadata": {},
   "outputs": [],
   "source": [
    "anno.drop(columns='index').to_csv('data/annotations.csv', index=False)"
   ]
  },
  {
   "cell_type": "markdown",
   "metadata": {},
   "source": [
    "And our dataset is ready! Will rename `audio_mini` to audio, archive, and upload to Internet Archive."
   ]
  }
 ],
 "metadata": {
  "kernelspec": {
   "display_name": "Python 3",
   "language": "python",
   "name": "python3"
  },
  "language_info": {
   "codemirror_mode": {
    "name": "ipython",
    "version": 3
   },
   "file_extension": ".py",
   "mimetype": "text/x-python",
   "name": "python",
   "nbconvert_exporter": "python",
   "pygments_lexer": "ipython3",
   "version": "3.7.6"
  }
 },
 "nbformat": 4,
 "nbformat_minor": 4
}
