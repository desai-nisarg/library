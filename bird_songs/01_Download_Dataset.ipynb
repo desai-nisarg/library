{
 "cells": [
  {
   "cell_type": "markdown",
   "metadata": {},
   "source": [
    "## Download Dataset"
   ]
  },
  {
   "cell_type": "markdown",
   "metadata": {},
   "source": [
    "Let's begin by downloading the data."
   ]
  },
  {
   "cell_type": "code",
   "execution_count": 1,
   "metadata": {},
   "outputs": [],
   "source": [
    "mkdir data"
   ]
  },
  {
   "cell_type": "code",
   "execution_count": 2,
   "metadata": {},
   "outputs": [
    {
     "name": "stdout",
     "output_type": "stream",
     "text": [
      "--2021-02-25 14:17:13--  https://archive.org/download/bird_songs/bird_songs.zip\n",
      "Resolving archive.org (archive.org)... 207.241.224.2\n",
      "Connecting to archive.org (archive.org)|207.241.224.2|:443... connected.\n",
      "HTTP request sent, awaiting response... 302 Found\n",
      "Location: https://ia801501.us.archive.org/0/items/bird_songs/bird_songs.zip [following]\n",
      "--2021-02-25 14:17:14--  https://ia801501.us.archive.org/0/items/bird_songs/bird_songs.zip\n",
      "Resolving ia801501.us.archive.org (ia801501.us.archive.org)... 207.241.228.151\n",
      "Connecting to ia801501.us.archive.org (ia801501.us.archive.org)|207.241.228.151|:443... connected.\n",
      "HTTP request sent, awaiting response... 200 OK\n",
      "Length: 57044917 (54M) [application/zip]\n",
      "Saving to: ‘bird_songs.zip’\n",
      "\n",
      "bird_songs.zip      100%[===================>]  54.40M  2.45MB/s    in 15s     \n",
      "\n",
      "2021-02-25 14:17:29 (3.62 MB/s) - ‘bird_songs.zip’ saved [57044917/57044917]\n",
      "\n"
     ]
    }
   ],
   "source": [
    "!cd data && wget https://archive.org/download/bird_songs/bird_songs.zip && unzip -q bird_songs.zip"
   ]
  },
  {
   "cell_type": "markdown",
   "metadata": {},
   "source": [
    "And we now have everything that we need!"
   ]
  },
  {
   "cell_type": "code",
   "execution_count": 3,
   "metadata": {},
   "outputs": [
    {
     "name": "stdout",
     "output_type": "stream",
     "text": [
      "annotations.csv  \u001b[0m\u001b[01;34maudio\u001b[0m/  \u001b[01;31mbird_songs.zip\u001b[0m\r\n"
     ]
    }
   ],
   "source": [
    "ls data"
   ]
  },
  {
   "cell_type": "markdown",
   "metadata": {},
   "source": [
    "The `annotations.csv` file contains label information."
   ]
  }
 ],
 "metadata": {
  "kernelspec": {
   "display_name": "Python 3",
   "language": "python",
   "name": "python3"
  },
  "language_info": {
   "codemirror_mode": {
    "name": "ipython",
    "version": 3
   },
   "file_extension": ".py",
   "mimetype": "text/x-python",
   "name": "python",
   "nbconvert_exporter": "python",
   "pygments_lexer": "ipython3",
   "version": "3.7.6"
  }
 },
 "nbformat": 4,
 "nbformat_minor": 4
}
