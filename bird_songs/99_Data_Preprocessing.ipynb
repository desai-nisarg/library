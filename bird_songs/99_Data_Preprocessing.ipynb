{
 "cells": [
  {
   "cell_type": "markdown",
   "metadata": {},
   "source": [
    "# Data Preprocessing"
   ]
  },
  {
   "cell_type": "markdown",
   "metadata": {},
   "source": [
    "Let's being by downloading the data and annotations."
   ]
  },
  {
   "cell_type": "code",
   "execution_count": 2,
   "metadata": {},
   "outputs": [],
   "source": [
    "mkdir data"
   ]
  },
  {
   "cell_type": "code",
   "execution_count": 3,
   "metadata": {},
   "outputs": [
    {
     "name": "stdout",
     "output_type": "stream",
     "text": [
      "--2021-02-25 12:34:15--  http://sabiod.univ-tln.fr/nips4b/media/birds/NIPS4B_BIRD_CHALLENGE_TRAIN_TEST_WAV.tar.gz\n",
      "Resolving sabiod.univ-tln.fr (sabiod.univ-tln.fr)... 193.49.96.4\n",
      "Connecting to sabiod.univ-tln.fr (sabiod.univ-tln.fr)|193.49.96.4|:80... connected.\n",
      "HTTP request sent, awaiting response... 200 OK\n",
      "Length: 141850775 (135M) [application/x-gzip]\n",
      "Saving to: ‘NIPS4B_BIRD_CHALLENGE_TRAIN_TEST_WAV.tar.gz’\n",
      "\n",
      "NIPS4B_BIRD_CHALLEN 100%[===================>] 135.28M  17.5MB/s    in 8.4s    \n",
      "\n",
      "2021-02-25 12:34:25 (16.1 MB/s) - ‘NIPS4B_BIRD_CHALLENGE_TRAIN_TEST_WAV.tar.gz’ saved [141850775/141850775]\n",
      "\n"
     ]
    }
   ],
   "source": [
    "!cd data && wget http://sabiod.univ-tln.fr/nips4b/media/birds/NIPS4B_BIRD_CHALLENGE_TRAIN_TEST_WAV.tar.gz"
   ]
  },
  {
   "cell_type": "code",
   "execution_count": 4,
   "metadata": {},
   "outputs": [
    {
     "name": "stdout",
     "output_type": "stream",
     "text": [
      "  % Total    % Received % Xferd  Average Speed   Time    Time     Time  Current\n",
      "                                 Dload  Upload   Total   Spent    Left  Speed\n",
      "100  661k  100  661k    0     0   500k      0  0:00:01  0:00:01 --:--:--  500k\n"
     ]
    }
   ],
   "source": [
    "!cd data && curl -O -J -L https://ndownloader.figshare.com/articles/6798548/versions/7"
   ]
  },
  {
   "cell_type": "code",
   "execution_count": 9,
   "metadata": {},
   "outputs": [],
   "source": [
    "!cd data && tar -xf NIPS4B_BIRD_CHALLENGE_TRAIN_TEST_WAV.tar.gz"
   ]
  },
  {
   "cell_type": "code",
   "execution_count": 14,
   "metadata": {},
   "outputs": [],
   "source": [
    "!cd data && unzip -q 6798548.zip"
   ]
  },
  {
   "cell_type": "code",
   "execution_count": 17,
   "metadata": {},
   "outputs": [],
   "source": [
    "import pandas as pd"
   ]
  },
  {
   "cell_type": "code",
   "execution_count": 19,
   "metadata": {},
   "outputs": [],
   "source": [
    "df = pd.read_csv('data/nips4b_birdchallenge_train_labels.csv')"
   ]
  },
  {
   "cell_type": "code",
   "execution_count": 24,
   "metadata": {},
   "outputs": [],
   "source": [
    "labels = df.iloc[0, 4:].values"
   ]
  },
  {
   "cell_type": "code",
   "execution_count": 25,
   "metadata": {},
   "outputs": [
    {
     "data": {
      "text/plain": [
       "array(['Aegcau_call', 'Alaarv_song', 'Anttri_song', 'Butbut_call',\n",
       "       'Carcan_call', 'Carcan_song', 'Carcar_call', 'Carcar_song',\n",
       "       'Cerbra_call', 'Cerbra_song', 'Cetcet_song', 'Chlchl_call',\n",
       "       'Cicatr_song', 'Cicorn_song', 'Cisjun_song', 'Colpal_song',\n",
       "       'Corcor_call', 'Denmaj_call', 'Denmaj_drum', 'Embcir_call',\n",
       "       'Embcir_song', 'Erirub_call', 'Erirub_song', 'Fricoe_call',\n",
       "       'Fricoe_song', 'Galcri_call', 'Galcri_song', 'Galthe_call',\n",
       "       'Galthe_song', 'Gargla_call', 'Hirrus_call', 'Jyntor_song',\n",
       "       'Lopcri_call', 'Loxcur_call', 'Lularb_song', 'Lusmeg_call',\n",
       "       'Lusmeg_song', 'Lyrple_song', 'Motcin_call', 'Musstr_call',\n",
       "       'Oriori_call', 'Oriori_song', 'Parate_call', 'Parate_song',\n",
       "       'Parcae_call', 'Parcae_song', 'Parmaj_call', 'Parmaj_song',\n",
       "       'Pasdom_call', 'Pelgra_call', 'Petpet_call', 'Petpet_song',\n",
       "       'Phofem_song', 'Phycol_call', 'Phycol_song', 'Picpic_call',\n",
       "       'Plaaff_song', 'Plasab_song', 'Poepal_call', 'Poepal_song',\n",
       "       'Prumod_song', 'Ptehey_song', 'Pyrpyr_call', 'Regign_call',\n",
       "       'Regign_song', 'Serser_call', 'Serser_song', 'Siteur_call',\n",
       "       'Siteur_song', 'Strdec_song', 'Strtur_song', 'Stuvul_call',\n",
       "       'Sylatr_call', 'Sylatr_song', 'Sylcan_call', 'Sylcan_song',\n",
       "       'Sylmel_call', 'Sylmel_song', 'Sylund_call', 'Sylund_song',\n",
       "       'Tetpyg_song', 'Tibtom_song', 'Trotro_song', 'Turmer_call',\n",
       "       'Turmer_song', 'Turphi_call', 'Turphi_song'], dtype=object)"
      ]
     },
     "execution_count": 25,
     "metadata": {},
     "output_type": "execute_result"
    }
   ],
   "source": [
    "labels"
   ]
  },
  {
   "cell_type": "code",
   "execution_count": 28,
   "metadata": {},
   "outputs": [
    {
     "data": {
      "text/plain": [
       "87"
      ]
     },
     "execution_count": 28,
     "metadata": {},
     "output_type": "execute_result"
    }
   ],
   "source": [
    "labels.size"
   ]
  },
  {
   "cell_type": "code",
   "execution_count": 68,
   "metadata": {},
   "outputs": [],
   "source": [
    "filenames = df.iloc[2:688, 0].values.tolist()"
   ]
  },
  {
   "cell_type": "code",
   "execution_count": 64,
   "metadata": {},
   "outputs": [],
   "source": [
    "import numpy as np"
   ]
  },
  {
   "cell_type": "code",
   "execution_count": 81,
   "metadata": {},
   "outputs": [],
   "source": [
    "class_idxs = df.iloc[2:688, 4:].fillna(0).values.astype(np.int8)"
   ]
  },
  {
   "cell_type": "code",
   "execution_count": 93,
   "metadata": {},
   "outputs": [],
   "source": [
    "df = pd.DataFrame(data={'filename': filenames})"
   ]
  },
  {
   "cell_type": "code",
   "execution_count": 99,
   "metadata": {},
   "outputs": [],
   "source": [
    "anno = pd.concat((df, pd.DataFrame(class_idxs, columns=labels)), axis=1)"
   ]
  },
  {
   "cell_type": "code",
   "execution_count": 100,
   "metadata": {},
   "outputs": [
    {
     "data": {
      "text/html": [
       "<div>\n",
       "<style scoped>\n",
       "    .dataframe tbody tr th:only-of-type {\n",
       "        vertical-align: middle;\n",
       "    }\n",
       "\n",
       "    .dataframe tbody tr th {\n",
       "        vertical-align: top;\n",
       "    }\n",
       "\n",
       "    .dataframe thead th {\n",
       "        text-align: right;\n",
       "    }\n",
       "</style>\n",
       "<table border=\"1\" class=\"dataframe\">\n",
       "  <thead>\n",
       "    <tr style=\"text-align: right;\">\n",
       "      <th></th>\n",
       "      <th>filename</th>\n",
       "      <th>Aegcau_call</th>\n",
       "      <th>Alaarv_song</th>\n",
       "      <th>Anttri_song</th>\n",
       "      <th>Butbut_call</th>\n",
       "      <th>Carcan_call</th>\n",
       "      <th>Carcan_song</th>\n",
       "      <th>Carcar_call</th>\n",
       "      <th>Carcar_song</th>\n",
       "      <th>Cerbra_call</th>\n",
       "      <th>...</th>\n",
       "      <th>Sylmel_song</th>\n",
       "      <th>Sylund_call</th>\n",
       "      <th>Sylund_song</th>\n",
       "      <th>Tetpyg_song</th>\n",
       "      <th>Tibtom_song</th>\n",
       "      <th>Trotro_song</th>\n",
       "      <th>Turmer_call</th>\n",
       "      <th>Turmer_song</th>\n",
       "      <th>Turphi_call</th>\n",
       "      <th>Turphi_song</th>\n",
       "    </tr>\n",
       "  </thead>\n",
       "  <tbody>\n",
       "    <tr>\n",
       "      <th>0</th>\n",
       "      <td>nips4b_birds_trainfile001.wav</td>\n",
       "      <td>0</td>\n",
       "      <td>0</td>\n",
       "      <td>0</td>\n",
       "      <td>1</td>\n",
       "      <td>0</td>\n",
       "      <td>0</td>\n",
       "      <td>0</td>\n",
       "      <td>0</td>\n",
       "      <td>0</td>\n",
       "      <td>...</td>\n",
       "      <td>0</td>\n",
       "      <td>0</td>\n",
       "      <td>0</td>\n",
       "      <td>0</td>\n",
       "      <td>0</td>\n",
       "      <td>0</td>\n",
       "      <td>0</td>\n",
       "      <td>0</td>\n",
       "      <td>0</td>\n",
       "      <td>0</td>\n",
       "    </tr>\n",
       "    <tr>\n",
       "      <th>1</th>\n",
       "      <td>nips4b_birds_trainfile002.wav</td>\n",
       "      <td>0</td>\n",
       "      <td>0</td>\n",
       "      <td>0</td>\n",
       "      <td>0</td>\n",
       "      <td>0</td>\n",
       "      <td>0</td>\n",
       "      <td>0</td>\n",
       "      <td>0</td>\n",
       "      <td>0</td>\n",
       "      <td>...</td>\n",
       "      <td>1</td>\n",
       "      <td>0</td>\n",
       "      <td>0</td>\n",
       "      <td>0</td>\n",
       "      <td>0</td>\n",
       "      <td>0</td>\n",
       "      <td>0</td>\n",
       "      <td>0</td>\n",
       "      <td>0</td>\n",
       "      <td>0</td>\n",
       "    </tr>\n",
       "    <tr>\n",
       "      <th>2</th>\n",
       "      <td>nips4b_birds_trainfile003.wav</td>\n",
       "      <td>0</td>\n",
       "      <td>0</td>\n",
       "      <td>0</td>\n",
       "      <td>0</td>\n",
       "      <td>0</td>\n",
       "      <td>0</td>\n",
       "      <td>0</td>\n",
       "      <td>0</td>\n",
       "      <td>0</td>\n",
       "      <td>...</td>\n",
       "      <td>0</td>\n",
       "      <td>0</td>\n",
       "      <td>0</td>\n",
       "      <td>0</td>\n",
       "      <td>0</td>\n",
       "      <td>0</td>\n",
       "      <td>0</td>\n",
       "      <td>0</td>\n",
       "      <td>0</td>\n",
       "      <td>0</td>\n",
       "    </tr>\n",
       "    <tr>\n",
       "      <th>3</th>\n",
       "      <td>nips4b_birds_trainfile004.wav</td>\n",
       "      <td>0</td>\n",
       "      <td>0</td>\n",
       "      <td>0</td>\n",
       "      <td>0</td>\n",
       "      <td>0</td>\n",
       "      <td>0</td>\n",
       "      <td>0</td>\n",
       "      <td>0</td>\n",
       "      <td>0</td>\n",
       "      <td>...</td>\n",
       "      <td>0</td>\n",
       "      <td>0</td>\n",
       "      <td>0</td>\n",
       "      <td>0</td>\n",
       "      <td>0</td>\n",
       "      <td>0</td>\n",
       "      <td>1</td>\n",
       "      <td>0</td>\n",
       "      <td>0</td>\n",
       "      <td>0</td>\n",
       "    </tr>\n",
       "    <tr>\n",
       "      <th>4</th>\n",
       "      <td>nips4b_birds_trainfile005.wav</td>\n",
       "      <td>0</td>\n",
       "      <td>0</td>\n",
       "      <td>0</td>\n",
       "      <td>0</td>\n",
       "      <td>0</td>\n",
       "      <td>0</td>\n",
       "      <td>0</td>\n",
       "      <td>0</td>\n",
       "      <td>0</td>\n",
       "      <td>...</td>\n",
       "      <td>0</td>\n",
       "      <td>0</td>\n",
       "      <td>0</td>\n",
       "      <td>0</td>\n",
       "      <td>0</td>\n",
       "      <td>0</td>\n",
       "      <td>1</td>\n",
       "      <td>0</td>\n",
       "      <td>0</td>\n",
       "      <td>0</td>\n",
       "    </tr>\n",
       "  </tbody>\n",
       "</table>\n",
       "<p>5 rows × 88 columns</p>\n",
       "</div>"
      ],
      "text/plain": [
       "                        filename  Aegcau_call  Alaarv_song  Anttri_song  \\\n",
       "0  nips4b_birds_trainfile001.wav            0            0            0   \n",
       "1  nips4b_birds_trainfile002.wav            0            0            0   \n",
       "2  nips4b_birds_trainfile003.wav            0            0            0   \n",
       "3  nips4b_birds_trainfile004.wav            0            0            0   \n",
       "4  nips4b_birds_trainfile005.wav            0            0            0   \n",
       "\n",
       "   Butbut_call  Carcan_call  Carcan_song  Carcar_call  Carcar_song  \\\n",
       "0            1            0            0            0            0   \n",
       "1            0            0            0            0            0   \n",
       "2            0            0            0            0            0   \n",
       "3            0            0            0            0            0   \n",
       "4            0            0            0            0            0   \n",
       "\n",
       "   Cerbra_call  ...  Sylmel_song  Sylund_call  Sylund_song  Tetpyg_song  \\\n",
       "0            0  ...            0            0            0            0   \n",
       "1            0  ...            1            0            0            0   \n",
       "2            0  ...            0            0            0            0   \n",
       "3            0  ...            0            0            0            0   \n",
       "4            0  ...            0            0            0            0   \n",
       "\n",
       "   Tibtom_song  Trotro_song  Turmer_call  Turmer_song  Turphi_call  \\\n",
       "0            0            0            0            0            0   \n",
       "1            0            0            0            0            0   \n",
       "2            0            0            0            0            0   \n",
       "3            0            0            1            0            0   \n",
       "4            0            0            1            0            0   \n",
       "\n",
       "   Turphi_song  \n",
       "0            0  \n",
       "1            0  \n",
       "2            0  \n",
       "3            0  \n",
       "4            0  \n",
       "\n",
       "[5 rows x 88 columns]"
      ]
     },
     "execution_count": 100,
     "metadata": {},
     "output_type": "execute_result"
    }
   ],
   "source": [
    "anno.head()"
   ]
  },
  {
   "cell_type": "code",
   "execution_count": 125,
   "metadata": {},
   "outputs": [],
   "source": [
    "anno.to_csv('data/annotations.csv', index=False)"
   ]
  },
  {
   "cell_type": "code",
   "execution_count": 127,
   "metadata": {},
   "outputs": [],
   "source": [
    "!mkdir data/audio\n",
    "!cp data/NIPS4B_BIRD_CHALLENGE_TRAIN_TEST_WAV/train/* data/audio"
   ]
  },
  {
   "cell_type": "code",
   "execution_count": 128,
   "metadata": {},
   "outputs": [],
   "source": [
    "!cd data && zip -qr bird_songs.zip annotations.csv audio"
   ]
  }
 ],
 "metadata": {
  "kernelspec": {
   "display_name": "Python 3",
   "language": "python",
   "name": "python3"
  },
  "language_info": {
   "codemirror_mode": {
    "name": "ipython",
    "version": 3
   },
   "file_extension": ".py",
   "mimetype": "text/x-python",
   "name": "python",
   "nbconvert_exporter": "python",
   "pygments_lexer": "ipython3",
   "version": "3.7.6"
  }
 },
 "nbformat": 4,
 "nbformat_minor": 4
}
