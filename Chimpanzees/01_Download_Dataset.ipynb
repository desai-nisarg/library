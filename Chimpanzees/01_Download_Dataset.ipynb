{
 "cells": [
  {
   "cell_type": "code",
   "execution_count": 1,
   "metadata": {},
   "outputs": [],
   "source": [
    "mkdir data"
   ]
  },
  {
   "cell_type": "code",
   "execution_count": 2,
   "metadata": {},
   "outputs": [
    {
     "name": "stdout",
     "output_type": "stream",
     "text": [
      "--2021-08-30 15:15:22--  https://archive.org/download/chimpanzee-vocalizations/Chimpanzee%20vocalizations.zip\n",
      "Resolving archive.org (archive.org)... 207.241.224.2\n",
      "Connecting to archive.org (archive.org)|207.241.224.2|:443... connected.\n",
      "HTTP request sent, awaiting response... 302 Found\n",
      "Location: https://ia904509.us.archive.org/28/items/chimpanzee-vocalizations/Chimpanzee%20vocalizations.zip [following]\n",
      "--2021-08-30 15:15:22--  https://ia904509.us.archive.org/28/items/chimpanzee-vocalizations/Chimpanzee%20vocalizations.zip\n",
      "Resolving ia904509.us.archive.org (ia904509.us.archive.org)... 207.241.228.99\n",
      "Connecting to ia904509.us.archive.org (ia904509.us.archive.org)|207.241.228.99|:443... connected.\n",
      "HTTP request sent, awaiting response... 200 OK\n",
      "Length: 11706456187 (11G) [application/zip]\n",
      "Saving to: ‘Chimpanzee vocalizations.zip’\n",
      "\n",
      "ns.zip                0%[                    ]  10.32M  1.75MB/s    eta 1h 57m ^C\n"
     ]
    }
   ],
   "source": [
    "!cd data && wget https://archive.org/download/chimpanzee-vocalizations/Chimpanzee\\ vocalizations.zip && unzip -q Chimpanzee\\ vocalizations.zip\n"
   ]
  },
  {
   "cell_type": "markdown",
   "metadata": {},
   "source": [
    "#### Things to note about the downloads:\n",
    "\n",
    "* The calls are organized in different folders for (i) two neighboring chimpanzee communities at Gombe: Kasekela and Mitumba and (ii) month and year of recording. \n",
    "* The calls were recorded with two different Marantz PMD661 MKII audio recorders. The first recorded with filenames starting with 'KSK' and the second recorded with filenames starting with 'MTB'. \n",
    "* The WAV files are not trimmed and each file may contain multiple recordings. Trimming would need to be done based on the research question."
   ]
  },
  {
   "cell_type": "markdown",
   "metadata": {},
   "source": [
    "Next, we download the metadata file for the recordings."
   ]
  },
  {
   "cell_type": "code",
   "execution_count": 3,
   "metadata": {},
   "outputs": [
    {
     "name": "stdout",
     "output_type": "stream",
     "text": [
      "--2021-08-30 15:15:29--  https://archive.org/download/chimpanzee-vocalizations/Metadata_chimpanzee_vocalizations_Gombe_2016-17.xlsx\n",
      "Resolving archive.org (archive.org)... 207.241.224.2\n",
      "Connecting to archive.org (archive.org)|207.241.224.2|:443... connected.\n",
      "HTTP request sent, awaiting response... 302 Found\n",
      "Location: https://ia804509.us.archive.org/28/items/chimpanzee-vocalizations/Metadata_chimpanzee_vocalizations_Gombe_2016-17.xlsx [following]\n",
      "--2021-08-30 15:15:30--  https://ia804509.us.archive.org/28/items/chimpanzee-vocalizations/Metadata_chimpanzee_vocalizations_Gombe_2016-17.xlsx\n",
      "Resolving ia804509.us.archive.org (ia804509.us.archive.org)... 207.241.235.79\n",
      "Connecting to ia804509.us.archive.org (ia804509.us.archive.org)|207.241.235.79|:443... connected.\n",
      "HTTP request sent, awaiting response... 200 OK\n",
      "Length: 82732 (81K) [application/octet-stream]\n",
      "Saving to: ‘Metadata_chimpanzee_vocalizations_Gombe_2016-17.xlsx’\n",
      "\n",
      "Metadata_chimpanzee 100%[===================>]  80.79K  --.-KB/s    in 0.02s   \n",
      "\n",
      "2021-08-30 15:15:30 (3.36 MB/s) - ‘Metadata_chimpanzee_vocalizations_Gombe_2016-17.xlsx’ saved [82732/82732]\n",
      "\n"
     ]
    }
   ],
   "source": [
    "!cd data && wget https://archive.org/download/chimpanzee-vocalizations/Metadata_chimpanzee_vocalizations_Gombe_2016-17.xlsx"
   ]
  },
  {
   "cell_type": "markdown",
   "metadata": {},
   "source": [
    "#### Things to note about the metadata file:\n",
    "\n",
    "* The metadata excel file has 3 sheets: (i) Datasheets_Gombe_2016-2017, (ii) Chimpanzee IDs, and (iii) Call-type IDs.\n",
    "* The 'Datasheets_Gombe_2016-2017' sheet contains general information about each of the recordings. \n",
    "* The 'Chimpanzee IDs' sheet contains abbreviated chimpanzee IDs noted in the 'Datasheets_Gombe_2016-2017' sheet and their names, sex, community, and age as of 2016. \n",
    "* The 'Call-type IDs' sheet contains information about call-types noted in the 'Datasheets_Gombe_2016-2017' sheet. The list of call-types is not exhaustive. "
   ]
  },
  {
   "cell_type": "markdown",
   "metadata": {},
   "source": [
    "Below, we take a peek at each of these sheets."
   ]
  },
  {
   "cell_type": "code",
   "execution_count": 4,
   "metadata": {},
   "outputs": [
    {
     "name": "stdout",
     "output_type": "stream",
     "text": [
      "/Users/sauti/Desktop/Nisarg files/Dialects/Calls/Earth Species/Chimpanzees/data\n"
     ]
    }
   ],
   "source": [
    "cd data"
   ]
  },
  {
   "cell_type": "code",
   "execution_count": 5,
   "metadata": {},
   "outputs": [
    {
     "data": {
      "text/html": [
       "<div>\n",
       "<style scoped>\n",
       "    .dataframe tbody tr th:only-of-type {\n",
       "        vertical-align: middle;\n",
       "    }\n",
       "\n",
       "    .dataframe tbody tr th {\n",
       "        vertical-align: top;\n",
       "    }\n",
       "\n",
       "    .dataframe thead th {\n",
       "        text-align: right;\n",
       "    }\n",
       "</style>\n",
       "<table border=\"1\" class=\"dataframe\">\n",
       "  <thead>\n",
       "    <tr style=\"text-align: right;\">\n",
       "      <th></th>\n",
       "      <th>Date</th>\n",
       "      <th>Community</th>\n",
       "      <th>Recorder</th>\n",
       "      <th>Filename</th>\n",
       "      <th>Alternate filename from another recorder</th>\n",
       "      <th>Time</th>\n",
       "      <th>Focal Individual</th>\n",
       "      <th>Caller</th>\n",
       "      <th>Caller act</th>\n",
       "      <th>Context</th>\n",
       "      <th>Call type as noted by Recorder</th>\n",
       "      <th>Possible call types in the file</th>\n",
       "    </tr>\n",
       "  </thead>\n",
       "  <tbody>\n",
       "    <tr>\n",
       "      <th>0</th>\n",
       "      <td>2016-08-01</td>\n",
       "      <td>Kasekela</td>\n",
       "      <td>Hashim</td>\n",
       "      <td>KSK008</td>\n",
       "      <td>NaN</td>\n",
       "      <td>12:08:00</td>\n",
       "      <td>NaN</td>\n",
       "      <td>TZ</td>\n",
       "      <td>Travel</td>\n",
       "      <td>NaN</td>\n",
       "      <td>SCR</td>\n",
       "      <td>NaN</td>\n",
       "    </tr>\n",
       "    <tr>\n",
       "      <th>1</th>\n",
       "      <td>2016-08-01</td>\n",
       "      <td>Kasekela</td>\n",
       "      <td>Hashim</td>\n",
       "      <td>KSK009</td>\n",
       "      <td>NaN</td>\n",
       "      <td>12:28:00</td>\n",
       "      <td>NaN</td>\n",
       "      <td>CHE</td>\n",
       "      <td>Travel</td>\n",
       "      <td>NaN</td>\n",
       "      <td>PH</td>\n",
       "      <td>NaN</td>\n",
       "    </tr>\n",
       "    <tr>\n",
       "      <th>2</th>\n",
       "      <td>2016-08-14</td>\n",
       "      <td>Kasekela</td>\n",
       "      <td>Hashim</td>\n",
       "      <td>KSK002</td>\n",
       "      <td>NaN</td>\n",
       "      <td>NaN</td>\n",
       "      <td>NaN</td>\n",
       "      <td>NaN</td>\n",
       "      <td>NaN</td>\n",
       "      <td>NaN</td>\n",
       "      <td>NaN</td>\n",
       "      <td>bird calls, possible CC</td>\n",
       "    </tr>\n",
       "    <tr>\n",
       "      <th>3</th>\n",
       "      <td>2016-08-14</td>\n",
       "      <td>Kasekela</td>\n",
       "      <td>Hashim</td>\n",
       "      <td>KSK003</td>\n",
       "      <td>NaN</td>\n",
       "      <td>NaN</td>\n",
       "      <td>NaN</td>\n",
       "      <td>NaN</td>\n",
       "      <td>NaN</td>\n",
       "      <td>NaN</td>\n",
       "      <td>NaN</td>\n",
       "      <td>red colobus alarm sounds</td>\n",
       "    </tr>\n",
       "    <tr>\n",
       "      <th>4</th>\n",
       "      <td>2016-08-15</td>\n",
       "      <td>Kasekela</td>\n",
       "      <td>Hashim</td>\n",
       "      <td>KSK005</td>\n",
       "      <td>NaN</td>\n",
       "      <td>14:29:00</td>\n",
       "      <td>FE</td>\n",
       "      <td>FE, Group</td>\n",
       "      <td>Climbs tree</td>\n",
       "      <td>Climbs tree</td>\n",
       "      <td>PH</td>\n",
       "      <td>PHC, BRK, FG, U</td>\n",
       "    </tr>\n",
       "  </tbody>\n",
       "</table>\n",
       "</div>"
      ],
      "text/plain": [
       "        Date Community Recorder Filename  \\\n",
       "0 2016-08-01  Kasekela   Hashim   KSK008   \n",
       "1 2016-08-01  Kasekela   Hashim   KSK009   \n",
       "2 2016-08-14  Kasekela   Hashim   KSK002   \n",
       "3 2016-08-14  Kasekela   Hashim   KSK003   \n",
       "4 2016-08-15  Kasekela   Hashim   KSK005   \n",
       "\n",
       "  Alternate filename from another recorder      Time Focal Individual  \\\n",
       "0                                      NaN  12:08:00              NaN   \n",
       "1                                      NaN  12:28:00              NaN   \n",
       "2                                      NaN       NaN              NaN   \n",
       "3                                      NaN       NaN              NaN   \n",
       "4                                      NaN  14:29:00               FE   \n",
       "\n",
       "      Caller   Caller act      Context Call type as noted by Recorder  \\\n",
       "0         TZ       Travel          NaN                            SCR   \n",
       "1        CHE       Travel          NaN                             PH   \n",
       "2        NaN          NaN          NaN                            NaN   \n",
       "3        NaN          NaN          NaN                            NaN   \n",
       "4  FE, Group  Climbs tree  Climbs tree                             PH   \n",
       "\n",
       "  Possible call types in the file  \n",
       "0                             NaN  \n",
       "1                             NaN  \n",
       "2         bird calls, possible CC  \n",
       "3        red colobus alarm sounds  \n",
       "4                 PHC, BRK, FG, U  "
      ]
     },
     "execution_count": 5,
     "metadata": {},
     "output_type": "execute_result"
    }
   ],
   "source": [
    "import pandas as pd\n",
    "\n",
    "df = pd.read_excel (r'Metadata_chimpanzee_vocalizations_Gombe_2016-17.xlsx', sheet_name='Datasheets_Gombe_2016-2017')\n",
    "df.head()"
   ]
  },
  {
   "cell_type": "markdown",
   "metadata": {},
   "source": [
    "#### Additional info about the columns:\n",
    "\n",
    "* The calls were recorded while following one individual chimpanzee (Focal Individual) to ensure that we captured all the relevant indiuduals for our study. However, calls were recorded from all individuals that called who were close to the Focal Individual. Whenever the caller was known, the ID was listed in the 'Caller' column. Refer to the accompanying manuscript (Desai et al. 2021) for more details about the recording methods.\n",
    "* The 'Recorder' column contains the name of the field assistant who recorded the file.\n",
    "* The 'Alternate filename from another recorder' column will have a filename in instances when both audio recorders were used simultaneously in the same spot, essentailly resulting in duplicate recordings. This was done for training the field assistants to record vocalizations.\n",
    "* The 'Caller act' lists the behavior of the individual while calling. Whereas, the 'Context' column lists what the sub-group (known as 'party') of chimpanzees was doing while the call was given. \n",
    "* The field assistants were trained to list a call-type they could identify in the recording in the 'Call type as noted by Recorder' column. However, this is not an exhaustive list of all the calls in the file and each file may contain multiple call-types from one or more callers. Other call-types later identified are listed in the 'Possible call types in the file' column. However, this too is not an exhaustive list as not all call-types could be properly identified. More research needs to be done in classifying chimpanzee vocal repertoire."
   ]
  },
  {
   "cell_type": "code",
   "execution_count": 6,
   "metadata": {},
   "outputs": [
    {
     "data": {
      "text/html": [
       "<div>\n",
       "<style scoped>\n",
       "    .dataframe tbody tr th:only-of-type {\n",
       "        vertical-align: middle;\n",
       "    }\n",
       "\n",
       "    .dataframe tbody tr th {\n",
       "        vertical-align: top;\n",
       "    }\n",
       "\n",
       "    .dataframe thead th {\n",
       "        text-align: right;\n",
       "    }\n",
       "</style>\n",
       "<table border=\"1\" class=\"dataframe\">\n",
       "  <thead>\n",
       "    <tr style=\"text-align: right;\">\n",
       "      <th></th>\n",
       "      <th>Chimp ID</th>\n",
       "      <th>Chimp name</th>\n",
       "      <th>Sex</th>\n",
       "      <th>Community</th>\n",
       "      <th>Age in 2016</th>\n",
       "    </tr>\n",
       "  </thead>\n",
       "  <tbody>\n",
       "    <tr>\n",
       "      <th>0</th>\n",
       "      <td>AP</td>\n",
       "      <td>APHRO</td>\n",
       "      <td>F</td>\n",
       "      <td>Kasekela</td>\n",
       "      <td>44</td>\n",
       "    </tr>\n",
       "    <tr>\n",
       "      <th>1</th>\n",
       "      <td>ARI</td>\n",
       "      <td>ARIS</td>\n",
       "      <td>M</td>\n",
       "      <td>Mitumba</td>\n",
       "      <td>10</td>\n",
       "    </tr>\n",
       "    <tr>\n",
       "      <th>2</th>\n",
       "      <td>BAH</td>\n",
       "      <td>BAHATI</td>\n",
       "      <td>F</td>\n",
       "      <td>Mitumba</td>\n",
       "      <td>28</td>\n",
       "    </tr>\n",
       "    <tr>\n",
       "      <th>3</th>\n",
       "      <td>BIM</td>\n",
       "      <td>BIMA</td>\n",
       "      <td>F</td>\n",
       "      <td>Mitumba</td>\n",
       "      <td>24</td>\n",
       "    </tr>\n",
       "    <tr>\n",
       "      <th>4</th>\n",
       "      <td>CHE</td>\n",
       "      <td>CHEMA</td>\n",
       "      <td>F</td>\n",
       "      <td>NaN</td>\n",
       "      <td>14</td>\n",
       "    </tr>\n",
       "  </tbody>\n",
       "</table>\n",
       "</div>"
      ],
      "text/plain": [
       "  Chimp ID Chimp name Sex Community  Age in 2016\n",
       "0       AP      APHRO   F  Kasekela           44\n",
       "1      ARI       ARIS   M   Mitumba           10\n",
       "2      BAH     BAHATI   F   Mitumba           28\n",
       "3      BIM       BIMA   F   Mitumba           24\n",
       "4      CHE      CHEMA   F       NaN           14"
      ]
     },
     "execution_count": 6,
     "metadata": {},
     "output_type": "execute_result"
    }
   ],
   "source": [
    "df = pd.read_excel (r'Metadata_chimpanzee_vocalizations_Gombe_2016-17.xlsx', sheet_name='Chimpanzee IDs')\n",
    "df.head()"
   ]
  },
  {
   "cell_type": "code",
   "execution_count": 7,
   "metadata": {},
   "outputs": [
    {
     "data": {
      "text/html": [
       "<div>\n",
       "<style scoped>\n",
       "    .dataframe tbody tr th:only-of-type {\n",
       "        vertical-align: middle;\n",
       "    }\n",
       "\n",
       "    .dataframe tbody tr th {\n",
       "        vertical-align: top;\n",
       "    }\n",
       "\n",
       "    .dataframe thead th {\n",
       "        text-align: right;\n",
       "    }\n",
       "</style>\n",
       "<table border=\"1\" class=\"dataframe\">\n",
       "  <thead>\n",
       "    <tr style=\"text-align: right;\">\n",
       "      <th></th>\n",
       "      <th>0</th>\n",
       "    </tr>\n",
       "  </thead>\n",
       "  <tbody>\n",
       "    <tr>\n",
       "      <th>0</th>\n",
       "      <td>PH – pant hoot</td>\n",
       "    </tr>\n",
       "    <tr>\n",
       "      <th>1</th>\n",
       "      <td>PHC – pant hoot chorus</td>\n",
       "    </tr>\n",
       "    <tr>\n",
       "      <th>2</th>\n",
       "      <td>BRK – barks</td>\n",
       "    </tr>\n",
       "    <tr>\n",
       "      <th>3</th>\n",
       "      <td>BRKC – barks chorus</td>\n",
       "    </tr>\n",
       "    <tr>\n",
       "      <th>4</th>\n",
       "      <td>WB – waa bark</td>\n",
       "    </tr>\n",
       "    <tr>\n",
       "      <th>5</th>\n",
       "      <td>WBC – waa bark chorus</td>\n",
       "    </tr>\n",
       "    <tr>\n",
       "      <th>6</th>\n",
       "      <td>FG – food grunts</td>\n",
       "    </tr>\n",
       "    <tr>\n",
       "      <th>7</th>\n",
       "      <td>PG – pant grunts</td>\n",
       "    </tr>\n",
       "    <tr>\n",
       "      <th>8</th>\n",
       "      <td>CHR – chorused calls</td>\n",
       "    </tr>\n",
       "    <tr>\n",
       "      <th>9</th>\n",
       "      <td>CRY – cry</td>\n",
       "    </tr>\n",
       "    <tr>\n",
       "      <th>10</th>\n",
       "      <td>PLY – play sounds</td>\n",
       "    </tr>\n",
       "    <tr>\n",
       "      <th>11</th>\n",
       "      <td>CC – copulation call</td>\n",
       "    </tr>\n",
       "    <tr>\n",
       "      <th>12</th>\n",
       "      <td>U – unknown call type</td>\n",
       "    </tr>\n",
       "  </tbody>\n",
       "</table>\n",
       "</div>"
      ],
      "text/plain": [
       "                         0\n",
       "0           PH – pant hoot\n",
       "1   PHC – pant hoot chorus\n",
       "2              BRK – barks\n",
       "3      BRKC – barks chorus\n",
       "4            WB – waa bark\n",
       "5    WBC – waa bark chorus\n",
       "6         FG – food grunts\n",
       "7         PG – pant grunts\n",
       "8     CHR – chorused calls\n",
       "9                CRY – cry\n",
       "10       PLY – play sounds\n",
       "11    CC – copulation call\n",
       "12   U – unknown call type"
      ]
     },
     "execution_count": 7,
     "metadata": {},
     "output_type": "execute_result"
    }
   ],
   "source": [
    "df = pd.read_excel (r'Metadata_chimpanzee_vocalizations_Gombe_2016-17.xlsx', sheet_name='Call-type IDs', header=None)\n",
    "df"
   ]
  }
 ],
 "metadata": {
  "kernelspec": {
   "display_name": "Python 3",
   "language": "python",
   "name": "python3"
  },
  "language_info": {
   "codemirror_mode": {
    "name": "ipython",
    "version": 3
   },
   "file_extension": ".py",
   "mimetype": "text/x-python",
   "name": "python",
   "nbconvert_exporter": "python",
   "pygments_lexer": "ipython3",
   "version": "3.7.3"
  }
 },
 "nbformat": 4,
 "nbformat_minor": 2
}
