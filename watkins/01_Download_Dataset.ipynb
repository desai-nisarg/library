{
 "cells": [
  {
   "cell_type": "markdown",
   "metadata": {},
   "source": [
    "## Download Dataset"
   ]
  },
  {
   "cell_type": "code",
   "execution_count": 1,
   "metadata": {},
   "outputs": [],
   "source": [
    "mkdir data"
   ]
  },
  {
   "cell_type": "code",
   "execution_count": 2,
   "metadata": {},
   "outputs": [
    {
     "name": "stdout",
     "output_type": "stream",
     "text": [
      "--2021-04-21 12:37:22--  https://archive.org/download/watkins_202104/watkins.zip\n",
      "Resolving archive.org (archive.org)... 207.241.224.2\n",
      "Connecting to archive.org (archive.org)|207.241.224.2|:443... connected.\n",
      "HTTP request sent, awaiting response... 302 Found\n",
      "Location: https://ia801501.us.archive.org/18/items/watkins_202104/watkins.zip [following]\n",
      "--2021-04-21 12:37:22--  https://ia801501.us.archive.org/18/items/watkins_202104/watkins.zip\n",
      "Resolving ia801501.us.archive.org (ia801501.us.archive.org)... 207.241.228.151\n",
      "Connecting to ia801501.us.archive.org (ia801501.us.archive.org)|207.241.228.151|:443... connected.\n",
      "HTTP request sent, awaiting response... 200 OK\n",
      "Length: 707214136 (674M) [application/zip]\n",
      "Saving to: ‘watkins.zip’\n",
      "\n",
      "watkins.zip         100%[===================>] 674.45M  2.57MB/s    in 5m 26s  \n",
      "\n",
      "2021-04-21 12:42:48 (2.07 MB/s) - ‘watkins.zip’ saved [707214136/707214136]\n",
      "\n"
     ]
    }
   ],
   "source": [
    "!cd data && wget https://archive.org/download/watkins_202104/watkins.zip && unzip -q watkins.zip"
   ]
  },
  {
   "cell_type": "markdown",
   "metadata": {},
   "source": [
    "And we now have everything that we need!"
   ]
  },
  {
   "cell_type": "code",
   "execution_count": 3,
   "metadata": {},
   "outputs": [
    {
     "name": "stdout",
     "output_type": "stream",
     "text": [
      "annotations.csv            \u001b[0m\u001b[01;34mHumpback_Whale\u001b[0m/               \u001b[01;34mSouthern_Right_Whale\u001b[0m/\r\n",
      "\u001b[01;34mAtlantic_Spotted_Dolphin\u001b[0m/  \u001b[01;34mKiller_Whale\u001b[0m/                 \u001b[01;34mSperm_Whale\u001b[0m/\r\n",
      "\u001b[01;34mBearded_Seal\u001b[0m/              \u001b[01;34mLeopard_Seal\u001b[0m/                 \u001b[01;34mSpinner_Dolphin\u001b[0m/\r\n",
      "\u001b[01;34mBeluga,_White_Whale\u001b[0m/       \u001b[01;34mLong-Finned_Pilot_Whale\u001b[0m/      \u001b[01;34mStriped_Dolphin\u001b[0m/\r\n",
      "\u001b[01;34mBottlenose_Dolphin\u001b[0m/        \u001b[01;34mMelon_Headed_Whale\u001b[0m/           \u001b[01;34mWalrus\u001b[0m/\r\n",
      "\u001b[01;34mBowhead_Whale\u001b[0m/             \u001b[01;34mMinke_Whale\u001b[0m/                  \u001b[01;31mwatkins.zip\u001b[0m\r\n",
      "\u001b[01;34mClymene_Dolphin\u001b[0m/           \u001b[01;34mNarwhal\u001b[0m/                      \u001b[01;34mWeddell_Seal\u001b[0m/\r\n",
      "\u001b[01;34mCommon_Dolphin\u001b[0m/            \u001b[01;34mNorthern_Right_Whale\u001b[0m/         \u001b[01;34mWhite-beaked_Dolphin\u001b[0m/\r\n",
      "\u001b[01;34mFalse_Killer_Whale\u001b[0m/        \u001b[01;34mPantropical_Spotted_Dolphin\u001b[0m/  \u001b[01;34mWhite-sided_Dolphin\u001b[0m/\r\n",
      "\u001b[01;34mFin,_Finback_Whale\u001b[0m/        \u001b[01;34mRoss_Seal\u001b[0m/\r\n",
      "\u001b[01;34mHarp_Seal\u001b[0m/                 \u001b[01;34mRough-Toothed_Dolphin\u001b[0m/\r\n"
     ]
    }
   ],
   "source": [
    "ls data"
   ]
  },
  {
   "cell_type": "markdown",
   "metadata": {},
   "source": [
    "The `annotations.csv` file contains label information. Further to that, the data has been split by species into directories."
   ]
  }
 ],
 "metadata": {
  "kernelspec": {
   "display_name": "Python 3",
   "language": "python",
   "name": "python3"
  },
  "language_info": {
   "codemirror_mode": {
    "name": "ipython",
    "version": 3
   },
   "file_extension": ".py",
   "mimetype": "text/x-python",
   "name": "python",
   "nbconvert_exporter": "python",
   "pygments_lexer": "ipython3",
   "version": "3.7.6"
  }
 },
 "nbformat": 4,
 "nbformat_minor": 4
}
