{
 "cells": [
  {
   "cell_type": "markdown",
   "metadata": {},
   "source": [
    "# Data Preprocessing\n",
    "\n",
    "I donwloaded the data from [Kaggle](https://www.kaggle.com/c/rfcx-species-audio-detection/data) and extracted it into the `data` directory."
   ]
  },
  {
   "cell_type": "code",
   "execution_count": 1,
   "metadata": {},
   "outputs": [
    {
     "name": "stdout",
     "output_type": "stream",
     "text": [
      "\u001b[0m\u001b[01;31mrfcx-species-audio-detection.zip\u001b[0m  \u001b[01;34mtest\u001b[0m/       \u001b[01;34mtrain\u001b[0m/        train_tp.csv\r\n",
      "sample_submission.csv             \u001b[01;34mtfrecords\u001b[0m/  train_fp.csv\r\n"
     ]
    }
   ],
   "source": [
    "ls data/"
   ]
  },
  {
   "cell_type": "markdown",
   "metadata": {},
   "source": [
    "There are several things we will not need anymore - let's get rid of them."
   ]
  },
  {
   "cell_type": "code",
   "execution_count": 2,
   "metadata": {},
   "outputs": [],
   "source": [
    "rm -rf data/sample_submission.csv data/tfrecords data/rfcx-species-audio-detection.zip data/test"
   ]
  },
  {
   "cell_type": "code",
   "execution_count": 3,
   "metadata": {},
   "outputs": [],
   "source": [
    "import pandas as pd"
   ]
  },
  {
   "cell_type": "code",
   "execution_count": 4,
   "metadata": {},
   "outputs": [
    {
     "data": {
      "text/html": [
       "<div>\n",
       "<style scoped>\n",
       "    .dataframe tbody tr th:only-of-type {\n",
       "        vertical-align: middle;\n",
       "    }\n",
       "\n",
       "    .dataframe tbody tr th {\n",
       "        vertical-align: top;\n",
       "    }\n",
       "\n",
       "    .dataframe thead th {\n",
       "        text-align: right;\n",
       "    }\n",
       "</style>\n",
       "<table border=\"1\" class=\"dataframe\">\n",
       "  <thead>\n",
       "    <tr style=\"text-align: right;\">\n",
       "      <th></th>\n",
       "      <th>recording_id</th>\n",
       "      <th>species_id</th>\n",
       "      <th>songtype_id</th>\n",
       "      <th>t_min</th>\n",
       "      <th>f_min</th>\n",
       "      <th>t_max</th>\n",
       "      <th>f_max</th>\n",
       "    </tr>\n",
       "  </thead>\n",
       "  <tbody>\n",
       "    <tr>\n",
       "      <th>0</th>\n",
       "      <td>003bec244</td>\n",
       "      <td>14</td>\n",
       "      <td>1</td>\n",
       "      <td>44.5440</td>\n",
       "      <td>2531.250</td>\n",
       "      <td>45.1307</td>\n",
       "      <td>5531.25</td>\n",
       "    </tr>\n",
       "    <tr>\n",
       "      <th>1</th>\n",
       "      <td>006ab765f</td>\n",
       "      <td>23</td>\n",
       "      <td>1</td>\n",
       "      <td>39.9615</td>\n",
       "      <td>7235.160</td>\n",
       "      <td>46.0452</td>\n",
       "      <td>11283.40</td>\n",
       "    </tr>\n",
       "    <tr>\n",
       "      <th>2</th>\n",
       "      <td>007f87ba2</td>\n",
       "      <td>12</td>\n",
       "      <td>1</td>\n",
       "      <td>39.1360</td>\n",
       "      <td>562.500</td>\n",
       "      <td>42.2720</td>\n",
       "      <td>3281.25</td>\n",
       "    </tr>\n",
       "    <tr>\n",
       "      <th>3</th>\n",
       "      <td>0099c367b</td>\n",
       "      <td>17</td>\n",
       "      <td>4</td>\n",
       "      <td>51.4206</td>\n",
       "      <td>1464.260</td>\n",
       "      <td>55.1996</td>\n",
       "      <td>4565.04</td>\n",
       "    </tr>\n",
       "    <tr>\n",
       "      <th>4</th>\n",
       "      <td>009b760e6</td>\n",
       "      <td>10</td>\n",
       "      <td>1</td>\n",
       "      <td>50.0854</td>\n",
       "      <td>947.461</td>\n",
       "      <td>52.5293</td>\n",
       "      <td>10852.70</td>\n",
       "    </tr>\n",
       "  </tbody>\n",
       "</table>\n",
       "</div>"
      ],
      "text/plain": [
       "  recording_id  species_id  songtype_id    t_min     f_min    t_max     f_max\n",
       "0    003bec244          14            1  44.5440  2531.250  45.1307   5531.25\n",
       "1    006ab765f          23            1  39.9615  7235.160  46.0452  11283.40\n",
       "2    007f87ba2          12            1  39.1360   562.500  42.2720   3281.25\n",
       "3    0099c367b          17            4  51.4206  1464.260  55.1996   4565.04\n",
       "4    009b760e6          10            1  50.0854   947.461  52.5293  10852.70"
      ]
     },
     "execution_count": 4,
     "metadata": {},
     "output_type": "execute_result"
    }
   ],
   "source": [
    "train_tp = pd.read_csv('data/train_tp.csv')\n",
    "train_tp.head()"
   ]
  },
  {
   "cell_type": "markdown",
   "metadata": {},
   "source": [
    "The species that is present is identified by an id. The mapping of the id to species has been revelead [here](https://www.kaggle.com/c/rfcx-species-audio-detection/discussion/238216).\n",
    "\n",
    "Let's capture this information."
   ]
  },
  {
   "cell_type": "code",
   "execution_count": 5,
   "metadata": {},
   "outputs": [],
   "source": [
    "id2species = {\n",
    "    0: \"Eleutherodactylus gryllus\",\n",
    "    1: \"Eleutherodactylus brittoni\",\n",
    "    2: \"leptodactylus albilabris\",\n",
    "    3: \"Eleutherodactylus coqui\",\n",
    "    4: \"Eleutherodactylus hedricki\",\n",
    "    5: \"Dendroica angelae\",\n",
    "    6: \"Melanerpes portoricensis\",\n",
    "    7: \"Coereba flaveola\",\n",
    "    8: \"Eleutherodactylus locustus\",\n",
    "    9: \"Margarops fuscatus\",\n",
    "    10: \"Loxigilla portoricensis\",\n",
    "    11: \"Vireo altiloquus\",\n",
    "    12: \"Eleutherodactylus portoricensis\",\n",
    "    13: \"Megascops nudipes\",\n",
    "    14: \"Eleutherodactylus richmondi\",\n",
    "    15: \"Patagioenas squamosa\",\n",
    "    16: \"Eleutherodactylus antillensis\",\n",
    "    17: \"Turdus plumbeus\",\n",
    "    18: \"Eleutherodactylus unicolor\",\n",
    "    19: \"Coccyzus vieilloti\",\n",
    "    20: \"Todus mexicanus\",\n",
    "    21: \"Eleutherodactylus wightmanae\",\n",
    "    22: \"Nesospingus speculiferus\",\n",
    "    23: \"Spindalis portoricensis\",\n",
    "}"
   ]
  },
  {
   "cell_type": "markdown",
   "metadata": {},
   "source": [
    "The `train_tp.csv` (true positives - species that can be heard in a given chunk of audio) and `train_fp.csv` (species that the model is likely to detect but that actually do not occur in this particular segment of audio).\n",
    "\n",
    "These types of annotations (especially given they also contain information that can be used for drawing a bounding box around the signal) can be useful for certain types of models, but for most of the applications, this is not the shape of the data that is most convenient to work with.\n",
    "\n",
    "Let's create a new file, `train.csv`, that will map recordings to the labels of species that appear in them."
   ]
  },
  {
   "cell_type": "code",
   "execution_count": 6,
   "metadata": {},
   "outputs": [],
   "source": [
    "id2species = {k: '_'.join([vv.lower() for vv in v.split()]) for k, v in id2species.items()}"
   ]
  },
  {
   "cell_type": "code",
   "execution_count": 7,
   "metadata": {},
   "outputs": [
    {
     "data": {
      "text/plain": [
       "{0: 'eleutherodactylus_gryllus',\n",
       " 1: 'eleutherodactylus_brittoni',\n",
       " 2: 'leptodactylus_albilabris',\n",
       " 3: 'eleutherodactylus_coqui',\n",
       " 4: 'eleutherodactylus_hedricki',\n",
       " 5: 'dendroica_angelae',\n",
       " 6: 'melanerpes_portoricensis',\n",
       " 7: 'coereba_flaveola',\n",
       " 8: 'eleutherodactylus_locustus',\n",
       " 9: 'margarops_fuscatus',\n",
       " 10: 'loxigilla_portoricensis',\n",
       " 11: 'vireo_altiloquus',\n",
       " 12: 'eleutherodactylus_portoricensis',\n",
       " 13: 'megascops_nudipes',\n",
       " 14: 'eleutherodactylus_richmondi',\n",
       " 15: 'patagioenas_squamosa',\n",
       " 16: 'eleutherodactylus_antillensis',\n",
       " 17: 'turdus_plumbeus',\n",
       " 18: 'eleutherodactylus_unicolor',\n",
       " 19: 'coccyzus_vieilloti',\n",
       " 20: 'todus_mexicanus',\n",
       " 21: 'eleutherodactylus_wightmanae',\n",
       " 22: 'nesospingus_speculiferus',\n",
       " 23: 'spindalis_portoricensis'}"
      ]
     },
     "execution_count": 7,
     "metadata": {},
     "output_type": "execute_result"
    }
   ],
   "source": [
    "id2species"
   ]
  },
  {
   "cell_type": "code",
   "execution_count": 8,
   "metadata": {},
   "outputs": [],
   "source": [
    "from pathlib2 import Path\n",
    "\n",
    "recording_ids = [path.stem for path in Path('data/train').iterdir()]\n",
    "\n",
    "species_idxs = []\n",
    "\n",
    "for recording_id in recording_ids:\n",
    "    species_idxs.append(train_tp[train_tp.recording_id == recording_id].species_id.tolist())"
   ]
  },
  {
   "cell_type": "code",
   "execution_count": 12,
   "metadata": {},
   "outputs": [],
   "source": [
    "species_lists = [[id2species[idx] for idx in idxs] for idxs in species_idxs]"
   ]
  },
  {
   "cell_type": "code",
   "execution_count": 15,
   "metadata": {},
   "outputs": [],
   "source": [
    "anno = pd.DataFrame(data={'recording_id': recording_ids, 'species': species_lists})"
   ]
  },
  {
   "cell_type": "markdown",
   "metadata": {},
   "source": [
    "There are some instances, where each recording has been assigned multiple labels of the same kind. Let's normalize this information by removing duplicates."
   ]
  },
  {
   "cell_type": "code",
   "execution_count": 23,
   "metadata": {},
   "outputs": [],
   "source": [
    "anno.species = anno.species.apply(lambda species_list: list(set(species_list)))"
   ]
  },
  {
   "cell_type": "code",
   "execution_count": 24,
   "metadata": {},
   "outputs": [
    {
     "data": {
      "text/html": [
       "<div>\n",
       "<style scoped>\n",
       "    .dataframe tbody tr th:only-of-type {\n",
       "        vertical-align: middle;\n",
       "    }\n",
       "\n",
       "    .dataframe tbody tr th {\n",
       "        vertical-align: top;\n",
       "    }\n",
       "\n",
       "    .dataframe thead th {\n",
       "        text-align: right;\n",
       "    }\n",
       "</style>\n",
       "<table border=\"1\" class=\"dataframe\">\n",
       "  <thead>\n",
       "    <tr style=\"text-align: right;\">\n",
       "      <th></th>\n",
       "      <th>recording_id</th>\n",
       "      <th>species</th>\n",
       "    </tr>\n",
       "  </thead>\n",
       "  <tbody>\n",
       "    <tr>\n",
       "      <th>0</th>\n",
       "      <td>4071f7aa7</td>\n",
       "      <td>[]</td>\n",
       "    </tr>\n",
       "    <tr>\n",
       "      <th>1</th>\n",
       "      <td>ee922d946</td>\n",
       "      <td>[]</td>\n",
       "    </tr>\n",
       "    <tr>\n",
       "      <th>2</th>\n",
       "      <td>939659635</td>\n",
       "      <td>[]</td>\n",
       "    </tr>\n",
       "    <tr>\n",
       "      <th>3</th>\n",
       "      <td>d58429096</td>\n",
       "      <td>[coereba_flaveola, patagioenas_squamosa]</td>\n",
       "    </tr>\n",
       "    <tr>\n",
       "      <th>4</th>\n",
       "      <td>0608aef17</td>\n",
       "      <td>[]</td>\n",
       "    </tr>\n",
       "  </tbody>\n",
       "</table>\n",
       "</div>"
      ],
      "text/plain": [
       "  recording_id                                   species\n",
       "0    4071f7aa7                                        []\n",
       "1    ee922d946                                        []\n",
       "2    939659635                                        []\n",
       "3    d58429096  [coereba_flaveola, patagioenas_squamosa]\n",
       "4    0608aef17                                        []"
      ]
     },
     "execution_count": 24,
     "metadata": {},
     "output_type": "execute_result"
    }
   ],
   "source": [
    "anno.head()"
   ]
  },
  {
   "cell_type": "code",
   "execution_count": 25,
   "metadata": {},
   "outputs": [],
   "source": [
    "anno.to_pickle('data/anno.pkl')"
   ]
  },
  {
   "cell_type": "markdown",
   "metadata": {},
   "source": [
    "Let's remain `train` to audio for consistency going forward."
   ]
  },
  {
   "cell_type": "code",
   "execution_count": 18,
   "metadata": {},
   "outputs": [],
   "source": [
    "mv data/train data/audio"
   ]
  },
  {
   "cell_type": "markdown",
   "metadata": {},
   "source": [
    "Ok, the data looks like we would like it too look. Let's save everything and upload it."
   ]
  },
  {
   "cell_type": "code",
   "execution_count": 26,
   "metadata": {},
   "outputs": [],
   "source": [
    "!cd data && zip -qr tropical_soundscape.zip *"
   ]
  }
 ],
 "metadata": {
  "kernelspec": {
   "display_name": "Python 3",
   "language": "python",
   "name": "python3"
  },
  "language_info": {
   "codemirror_mode": {
    "name": "ipython",
    "version": 3
   },
   "file_extension": ".py",
   "mimetype": "text/x-python",
   "name": "python",
   "nbconvert_exporter": "python",
   "pygments_lexer": "ipython3",
   "version": "3.7.6"
  }
 },
 "nbformat": 4,
 "nbformat_minor": 4
}
