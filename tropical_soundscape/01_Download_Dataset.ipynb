{
 "cells": [
  {
   "cell_type": "markdown",
   "metadata": {},
   "source": [
    "## Download Dataset"
   ]
  },
  {
   "cell_type": "markdown",
   "metadata": {},
   "source": [
    "This dataset is made publicly available on [archive.org](https://archive.org/details/tropical_soundscape).\n",
    "\n",
    "Let's download the data and extract it."
   ]
  },
  {
   "cell_type": "code",
   "execution_count": null,
   "metadata": {},
   "outputs": [],
   "source": [
    "mkdir data"
   ]
  },
  {
   "cell_type": "code",
   "execution_count": 2,
   "metadata": {},
   "outputs": [
    {
     "name": "stdout",
     "output_type": "stream",
     "text": [
      "--2021-05-24 22:29:47--  https://archive.org/download/tropical_soundscape/tropical_soundscape.zip\n",
      "Resolving archive.org (archive.org)... 207.241.224.2\n",
      "Connecting to archive.org (archive.org)|207.241.224.2|:443... connected.\n",
      "HTTP request sent, awaiting response... 302 Found\n",
      "Location: https://ia601403.us.archive.org/29/items/tropical_soundscape/tropical_soundscape.zip [following]\n",
      "--2021-05-24 22:29:48--  https://ia601403.us.archive.org/29/items/tropical_soundscape/tropical_soundscape.zip\n",
      "Resolving ia601403.us.archive.org (ia601403.us.archive.org)... 207.241.227.123\n",
      "Connecting to ia601403.us.archive.org (ia601403.us.archive.org)|207.241.227.123|:443... connected.\n",
      "HTTP request sent, awaiting response... 200 OK\n",
      "Length: 16088125838 (15G) [application/zip]\n",
      "Saving to: ‘tropical_soundscape.zip’\n",
      "\n",
      "tropical_soundscape 100%[===================>]  14.98G  1.78MB/s    in 75m 34s \n",
      "\n",
      "2021-05-24 23:45:22 (3.38 MB/s) - ‘tropical_soundscape.zip’ saved [16088125838/16088125838]\n",
      "\n",
      "--2021-05-24 23:45:22--  http://./\n",
      "Resolving . (.)... failed: No address associated with hostname.\n",
      "wget: unable to resolve host address ‘.’\n",
      "FINISHED --2021-05-24 23:45:22--\n",
      "Total wall clock time: 1h 15m 35s\n",
      "Downloaded: 1 files, 15G in 1h 15m 34s (3.38 MB/s)\n"
     ]
    }
   ],
   "source": [
    "!cd data && wget https://archive.org/download/tropical_soundscape/tropical_soundscape.zip ."
   ]
  },
  {
   "cell_type": "markdown",
   "metadata": {},
   "source": [
    "We now have downloaded the data. Let's unzip it!"
   ]
  },
  {
   "cell_type": "code",
   "execution_count": 6,
   "metadata": {},
   "outputs": [],
   "source": [
    "!cd data && unzip -q tropical_soundscape.zip"
   ]
  },
  {
   "cell_type": "code",
   "execution_count": 7,
   "metadata": {},
   "outputs": [
    {
     "name": "stdout",
     "output_type": "stream",
     "text": [
      "anno.pkl  \u001b[0m\u001b[01;34maudio\u001b[0m/  train_fp.csv  train_tp.csv  \u001b[01;31mtropical_soundscape.zip\u001b[0m\r\n"
     ]
    }
   ],
   "source": [
    "ls data/"
   ]
  },
  {
   "cell_type": "code",
   "execution_count": 9,
   "metadata": {},
   "outputs": [
    {
     "data": {
      "text/html": [
       "<div>\n",
       "<style scoped>\n",
       "    .dataframe tbody tr th:only-of-type {\n",
       "        vertical-align: middle;\n",
       "    }\n",
       "\n",
       "    .dataframe tbody tr th {\n",
       "        vertical-align: top;\n",
       "    }\n",
       "\n",
       "    .dataframe thead th {\n",
       "        text-align: right;\n",
       "    }\n",
       "</style>\n",
       "<table border=\"1\" class=\"dataframe\">\n",
       "  <thead>\n",
       "    <tr style=\"text-align: right;\">\n",
       "      <th></th>\n",
       "      <th>recording_id</th>\n",
       "      <th>species</th>\n",
       "    </tr>\n",
       "  </thead>\n",
       "  <tbody>\n",
       "    <tr>\n",
       "      <th>0</th>\n",
       "      <td>4071f7aa7</td>\n",
       "      <td>[]</td>\n",
       "    </tr>\n",
       "    <tr>\n",
       "      <th>1</th>\n",
       "      <td>ee922d946</td>\n",
       "      <td>[]</td>\n",
       "    </tr>\n",
       "    <tr>\n",
       "      <th>2</th>\n",
       "      <td>939659635</td>\n",
       "      <td>[]</td>\n",
       "    </tr>\n",
       "    <tr>\n",
       "      <th>3</th>\n",
       "      <td>d58429096</td>\n",
       "      <td>[patagioenas_squamosa, coereba_flaveola]</td>\n",
       "    </tr>\n",
       "    <tr>\n",
       "      <th>4</th>\n",
       "      <td>0608aef17</td>\n",
       "      <td>[]</td>\n",
       "    </tr>\n",
       "  </tbody>\n",
       "</table>\n",
       "</div>"
      ],
      "text/plain": [
       "  recording_id                                   species\n",
       "0    4071f7aa7                                        []\n",
       "1    ee922d946                                        []\n",
       "2    939659635                                        []\n",
       "3    d58429096  [patagioenas_squamosa, coereba_flaveola]\n",
       "4    0608aef17                                        []"
      ]
     },
     "execution_count": 9,
     "metadata": {},
     "output_type": "execute_result"
    }
   ],
   "source": [
    "import pandas as pd\n",
    "\n",
    "anno = pd.read_pickle('data/anno.pkl')\n",
    "anno.head()"
   ]
  },
  {
   "cell_type": "markdown",
   "metadata": {},
   "source": [
    "\n",
    "The calls are included in the dataframe as numpy arrays and are stored in the `call` column."
   ]
  },
  {
   "cell_type": "code",
   "execution_count": 7,
   "metadata": {},
   "outputs": [
    {
     "data": {
      "text/plain": [
       "0    [-0.517395, -0.53131104, -0.532074, -0.5234985...\n",
       "1    [0.18444824, 0.18887329, 0.1809082, 0.16281128...\n",
       "2    [0.6281433, 0.62161255, 0.6202698, 0.62142944,...\n",
       "3    [0.4548645, 0.45187378, 0.45358276, 0.45529175...\n",
       "4    [-0.08654785, -0.110443115, -0.1361084, -0.161...\n",
       "Name: call, dtype: object"
      ]
     },
     "execution_count": 7,
     "metadata": {},
     "output_type": "execute_result"
    }
   ],
   "source": [
    "anno.call.head()"
   ]
  },
  {
   "cell_type": "markdown",
   "metadata": {},
   "source": [
    "The sample rate of all the calls is 44100."
   ]
  }
 ],
 "metadata": {
  "kernelspec": {
   "display_name": "Python 3",
   "language": "python",
   "name": "python3"
  },
  "language_info": {
   "codemirror_mode": {
    "name": "ipython",
    "version": 3
   },
   "file_extension": ".py",
   "mimetype": "text/x-python",
   "name": "python",
   "nbconvert_exporter": "python",
   "pygments_lexer": "ipython3",
   "version": "3.7.6"
  }
 },
 "nbformat": 4,
 "nbformat_minor": 4
}
